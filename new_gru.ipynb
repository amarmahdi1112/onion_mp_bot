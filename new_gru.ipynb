{
 "cells": [
  {
   "cell_type": "code",
   "execution_count": 1,
   "metadata": {},
   "outputs": [
    {
     "name": "stderr",
     "output_type": "stream",
     "text": [
      "2024-07-10 14:02:51.266384: I tensorflow/core/platform/cpu_feature_guard.cc:210] This TensorFlow binary is optimized to use available CPU instructions in performance-critical operations.\n",
      "To enable the following instructions: AVX2 FMA, in other operations, rebuild TensorFlow with the appropriate compiler flags.\n",
      "2024-07-10 14:02:52.493355: W tensorflow/compiler/tf2tensorrt/utils/py_utils.cc:38] TF-TRT Warning: Could not find TensorRT\n"
     ]
    }
   ],
   "source": [
    "from model_gens.gru_model_gen import GRUModel\n",
    "from model_gens.utils.static.columns import Columns\n",
    "from settings import BASE_DIR\n",
    "import os"
   ]
  },
  {
   "cell_type": "code",
   "execution_count": 2,
   "metadata": {},
   "outputs": [
    {
     "name": "stderr",
     "output_type": "stream",
     "text": [
      "/home/amar/Documents/Projects/MarketPredictor/model_gens/utils/preprocessor.py:134: FutureWarning: A value is trying to be set on a copy of a DataFrame or Series through chained assignment using an inplace method.\n",
      "The behavior will change in pandas 3.0. This inplace method will never work because the intermediate object on which we are setting values always behaves as a copy.\n",
      "\n",
      "For example, when doing 'df[col].method(value, inplace=True)', try using 'df.method({col: value}, inplace=True)' or df[col] = df[col].method(value) instead, to perform the operation inplace on the original object.\n",
      "\n",
      "\n",
      "  self._data[Columns.Open_Close_Diff.name].fillna(0, inplace=True)\n"
     ]
    }
   ],
   "source": [
    "market_predictor_open = GRUModel(\n",
    "    base_data_path=os.path.join(BASE_DIR, 'last_60_steps.csv'),\n",
    "    new_data_path=os.path.join(BASE_DIR, 'Datas/NEW_XAUUSD/new/^XAUUSD_7_testt.csv'),\n",
    ")"
   ]
  },
  {
   "cell_type": "code",
   "execution_count": 3,
   "metadata": {},
   "outputs": [
    {
     "name": "stderr",
     "output_type": "stream",
     "text": [
      "2024-07-10 14:02:55.218753: I external/local_xla/xla/stream_executor/cuda/cuda_executor.cc:998] successful NUMA node read from SysFS had negative value (-1), but there must be at least one NUMA node, so returning NUMA node zero. See more at https://github.com/torvalds/linux/blob/v6.0/Documentation/ABI/testing/sysfs-bus-pci#L344-L355\n",
      "2024-07-10 14:02:55.277467: I external/local_xla/xla/stream_executor/cuda/cuda_executor.cc:998] successful NUMA node read from SysFS had negative value (-1), but there must be at least one NUMA node, so returning NUMA node zero. See more at https://github.com/torvalds/linux/blob/v6.0/Documentation/ABI/testing/sysfs-bus-pci#L344-L355\n",
      "2024-07-10 14:02:55.277803: I external/local_xla/xla/stream_executor/cuda/cuda_executor.cc:998] successful NUMA node read from SysFS had negative value (-1), but there must be at least one NUMA node, so returning NUMA node zero. See more at https://github.com/torvalds/linux/blob/v6.0/Documentation/ABI/testing/sysfs-bus-pci#L344-L355\n",
      "2024-07-10 14:02:55.279834: I external/local_xla/xla/stream_executor/cuda/cuda_executor.cc:998] successful NUMA node read from SysFS had negative value (-1), but there must be at least one NUMA node, so returning NUMA node zero. See more at https://github.com/torvalds/linux/blob/v6.0/Documentation/ABI/testing/sysfs-bus-pci#L344-L355\n",
      "2024-07-10 14:02:55.280286: I external/local_xla/xla/stream_executor/cuda/cuda_executor.cc:998] successful NUMA node read from SysFS had negative value (-1), but there must be at least one NUMA node, so returning NUMA node zero. See more at https://github.com/torvalds/linux/blob/v6.0/Documentation/ABI/testing/sysfs-bus-pci#L344-L355\n",
      "2024-07-10 14:02:55.280682: I external/local_xla/xla/stream_executor/cuda/cuda_executor.cc:998] successful NUMA node read from SysFS had negative value (-1), but there must be at least one NUMA node, so returning NUMA node zero. See more at https://github.com/torvalds/linux/blob/v6.0/Documentation/ABI/testing/sysfs-bus-pci#L344-L355\n",
      "2024-07-10 14:02:55.377775: I external/local_xla/xla/stream_executor/cuda/cuda_executor.cc:998] successful NUMA node read from SysFS had negative value (-1), but there must be at least one NUMA node, so returning NUMA node zero. See more at https://github.com/torvalds/linux/blob/v6.0/Documentation/ABI/testing/sysfs-bus-pci#L344-L355\n",
      "2024-07-10 14:02:55.378125: I external/local_xla/xla/stream_executor/cuda/cuda_executor.cc:998] successful NUMA node read from SysFS had negative value (-1), but there must be at least one NUMA node, so returning NUMA node zero. See more at https://github.com/torvalds/linux/blob/v6.0/Documentation/ABI/testing/sysfs-bus-pci#L344-L355\n",
      "2024-07-10 14:02:55.378355: I external/local_xla/xla/stream_executor/cuda/cuda_executor.cc:998] successful NUMA node read from SysFS had negative value (-1), but there must be at least one NUMA node, so returning NUMA node zero. See more at https://github.com/torvalds/linux/blob/v6.0/Documentation/ABI/testing/sysfs-bus-pci#L344-L355\n",
      "2024-07-10 14:02:55.378673: I tensorflow/core/common_runtime/gpu/gpu_device.cc:1928] Created device /job:localhost/replica:0/task:0/device:GPU:0 with 803 MB memory:  -> device: 0, name: NVIDIA GeForce GTX 1650, pci bus id: 0000:01:00.0, compute capability: 7.5\n",
      "WARNING:absl:Compiled the loaded model, but the compiled metrics have yet to be built. `model.compile_metrics` will be empty until you train or evaluate the model.\n"
     ]
    }
   ],
   "source": [
    "market_predictor_open.load_model(column=Columns.Open)"
   ]
  },
  {
   "cell_type": "code",
   "execution_count": 4,
   "metadata": {},
   "outputs": [
    {
     "name": "stdout",
     "output_type": "stream",
     "text": [
      "Initial feature shape: (121, 5)\n",
      "Initial target shape: (121,)\n",
      "Scaled feature shape: (121, 5)\n",
      "Scaled target shape: (121, 1)\n",
      "Sequence feature shape: (61, 60, 5)\n",
      "Sequence target shape: (61, 1)\n",
      "Feature set shape: (61, 60, 5)\n",
      "Target shape: (61, 1)\n",
      "\u001b[1m1/2\u001b[0m \u001b[32m━━━━━━━━━━\u001b[0m\u001b[37m━━━━━━━━━━\u001b[0m \u001b[1m0s\u001b[0m 661ms/step"
     ]
    },
    {
     "name": "stderr",
     "output_type": "stream",
     "text": [
      "2024-07-10 14:02:56.489488: I external/local_xla/xla/stream_executor/cuda/cuda_dnn.cc:465] Loaded cuDNN version 8906\n"
     ]
    },
    {
     "name": "stdout",
     "output_type": "stream",
     "text": [
      "\u001b[1m2/2\u001b[0m \u001b[32m━━━━━━━━━━━━━━━━━━━━\u001b[0m\u001b[37m\u001b[0m \u001b[1m1s\u001b[0m 489ms/step\n",
      "Column name: Open\n",
      "Predictions (scaled): [[0.6375426]]\n",
      "Column index: 0\n",
      "Placeholder shape: (1, 6)\n",
      "Placeholder content: [[0.63754261 0.         0.         0.         0.         0.        ]]\n"
     ]
    }
   ],
   "source": [
    "predicted_open = market_predictor_open.prepare_latest_data_and_predict_open()"
   ]
  },
  {
   "cell_type": "code",
   "execution_count": 5,
   "metadata": {},
   "outputs": [
    {
     "data": {
      "text/plain": [
       "array([0.15])"
      ]
     },
     "execution_count": 5,
     "metadata": {},
     "output_type": "execute_result"
    }
   ],
   "source": [
    "predicted_open"
   ]
  },
  {
   "cell_type": "code",
   "execution_count": 6,
   "metadata": {},
   "outputs": [
    {
     "data": {
      "text/html": [
       "<div>\n",
       "<style scoped>\n",
       "    .dataframe tbody tr th:only-of-type {\n",
       "        vertical-align: middle;\n",
       "    }\n",
       "\n",
       "    .dataframe tbody tr th {\n",
       "        vertical-align: top;\n",
       "    }\n",
       "\n",
       "    .dataframe thead th {\n",
       "        text-align: right;\n",
       "    }\n",
       "</style>\n",
       "<table border=\"1\" class=\"dataframe\">\n",
       "  <thead>\n",
       "    <tr style=\"text-align: right;\">\n",
       "      <th></th>\n",
       "      <th>Open</th>\n",
       "      <th>High</th>\n",
       "      <th>Low</th>\n",
       "      <th>Close</th>\n",
       "      <th>Volume</th>\n",
       "      <th>Open_Close_Diff</th>\n",
       "    </tr>\n",
       "    <tr>\n",
       "      <th>Date Time</th>\n",
       "      <th></th>\n",
       "      <th></th>\n",
       "      <th></th>\n",
       "      <th></th>\n",
       "      <th></th>\n",
       "      <th></th>\n",
       "    </tr>\n",
       "  </thead>\n",
       "  <tbody>\n",
       "    <tr>\n",
       "      <th>2024-05-31 05:50:00</th>\n",
       "      <td>2344.25</td>\n",
       "      <td>2344.30</td>\n",
       "      <td>2343.99</td>\n",
       "      <td>2343.99</td>\n",
       "      <td>-0.35</td>\n",
       "      <td>0.02</td>\n",
       "    </tr>\n",
       "    <tr>\n",
       "      <th>2024-05-31 05:55:00</th>\n",
       "      <td>2343.97</td>\n",
       "      <td>2343.97</td>\n",
       "      <td>2343.55</td>\n",
       "      <td>2343.55</td>\n",
       "      <td>0.02</td>\n",
       "      <td>0.01</td>\n",
       "    </tr>\n",
       "    <tr>\n",
       "      <th>2024-05-31 06:00:00</th>\n",
       "      <td>2343.54</td>\n",
       "      <td>2343.88</td>\n",
       "      <td>2343.54</td>\n",
       "      <td>2343.88</td>\n",
       "      <td>0.01</td>\n",
       "      <td>-0.04</td>\n",
       "    </tr>\n",
       "    <tr>\n",
       "      <th>2024-05-31 06:05:00</th>\n",
       "      <td>2343.92</td>\n",
       "      <td>2344.18</td>\n",
       "      <td>2343.92</td>\n",
       "      <td>2344.09</td>\n",
       "      <td>-0.04</td>\n",
       "      <td>-0.02</td>\n",
       "    </tr>\n",
       "    <tr>\n",
       "      <th>2024-05-31 06:10:00</th>\n",
       "      <td>2344.11</td>\n",
       "      <td>2344.19</td>\n",
       "      <td>2343.92</td>\n",
       "      <td>2343.95</td>\n",
       "      <td>-0.02</td>\n",
       "      <td>0.00</td>\n",
       "    </tr>\n",
       "    <tr>\n",
       "      <th>...</th>\n",
       "      <td>...</td>\n",
       "      <td>...</td>\n",
       "      <td>...</td>\n",
       "      <td>...</td>\n",
       "      <td>...</td>\n",
       "      <td>...</td>\n",
       "    </tr>\n",
       "    <tr>\n",
       "      <th>2024-05-31 15:30:00</th>\n",
       "      <td>2328.65</td>\n",
       "      <td>2329.22</td>\n",
       "      <td>2328.65</td>\n",
       "      <td>2329.22</td>\n",
       "      <td>-0.14</td>\n",
       "      <td>-0.02</td>\n",
       "    </tr>\n",
       "    <tr>\n",
       "      <th>2024-05-31 15:35:00</th>\n",
       "      <td>2329.24</td>\n",
       "      <td>2329.66</td>\n",
       "      <td>2329.24</td>\n",
       "      <td>2329.60</td>\n",
       "      <td>-0.02</td>\n",
       "      <td>0.02</td>\n",
       "    </tr>\n",
       "    <tr>\n",
       "      <th>2024-05-31 15:40:00</th>\n",
       "      <td>2329.58</td>\n",
       "      <td>2329.59</td>\n",
       "      <td>2328.97</td>\n",
       "      <td>2328.97</td>\n",
       "      <td>0.02</td>\n",
       "      <td>0.10</td>\n",
       "    </tr>\n",
       "    <tr>\n",
       "      <th>2024-05-31 15:45:00</th>\n",
       "      <td>2328.87</td>\n",
       "      <td>2328.87</td>\n",
       "      <td>2327.82</td>\n",
       "      <td>2327.82</td>\n",
       "      <td>0.10</td>\n",
       "      <td>0.00</td>\n",
       "    </tr>\n",
       "    <tr>\n",
       "      <th>2024-06-02 21:50:00</th>\n",
       "      <td>2327.09</td>\n",
       "      <td>2327.09</td>\n",
       "      <td>2326.53</td>\n",
       "      <td>2326.53</td>\n",
       "      <td>21.00</td>\n",
       "      <td>0.00</td>\n",
       "    </tr>\n",
       "  </tbody>\n",
       "</table>\n",
       "<p>121 rows × 6 columns</p>\n",
       "</div>"
      ],
      "text/plain": [
       "                        Open     High      Low    Close  Volume  \\\n",
       "Date Time                                                         \n",
       "2024-05-31 05:50:00  2344.25  2344.30  2343.99  2343.99   -0.35   \n",
       "2024-05-31 05:55:00  2343.97  2343.97  2343.55  2343.55    0.02   \n",
       "2024-05-31 06:00:00  2343.54  2343.88  2343.54  2343.88    0.01   \n",
       "2024-05-31 06:05:00  2343.92  2344.18  2343.92  2344.09   -0.04   \n",
       "2024-05-31 06:10:00  2344.11  2344.19  2343.92  2343.95   -0.02   \n",
       "...                      ...      ...      ...      ...     ...   \n",
       "2024-05-31 15:30:00  2328.65  2329.22  2328.65  2329.22   -0.14   \n",
       "2024-05-31 15:35:00  2329.24  2329.66  2329.24  2329.60   -0.02   \n",
       "2024-05-31 15:40:00  2329.58  2329.59  2328.97  2328.97    0.02   \n",
       "2024-05-31 15:45:00  2328.87  2328.87  2327.82  2327.82    0.10   \n",
       "2024-06-02 21:50:00  2327.09  2327.09  2326.53  2326.53   21.00   \n",
       "\n",
       "                     Open_Close_Diff  \n",
       "Date Time                             \n",
       "2024-05-31 05:50:00             0.02  \n",
       "2024-05-31 05:55:00             0.01  \n",
       "2024-05-31 06:00:00            -0.04  \n",
       "2024-05-31 06:05:00            -0.02  \n",
       "2024-05-31 06:10:00             0.00  \n",
       "...                              ...  \n",
       "2024-05-31 15:30:00            -0.02  \n",
       "2024-05-31 15:35:00             0.02  \n",
       "2024-05-31 15:40:00             0.10  \n",
       "2024-05-31 15:45:00             0.00  \n",
       "2024-06-02 21:50:00             0.00  \n",
       "\n",
       "[121 rows x 6 columns]"
      ]
     },
     "execution_count": 6,
     "metadata": {},
     "output_type": "execute_result"
    }
   ],
   "source": [
    "market_predictor_open.preprocessor._data"
   ]
  },
  {
   "cell_type": "code",
   "execution_count": 7,
   "metadata": {},
   "outputs": [
    {
     "name": "stderr",
     "output_type": "stream",
     "text": [
      "/tmp/ipykernel_21052/1425895595.py:1: FutureWarning: Series.__getitem__ treating keys as positions is deprecated. In a future version, integer keys will always be treated as labels (consistent with DataFrame behavior). To access a value by position, use `ser.iloc[pos]`\n",
      "  last_close_val = market_predictor_open.preprocessor._data['Close'][-1]\n"
     ]
    }
   ],
   "source": [
    "last_close_val = market_predictor_open.preprocessor._data['Close'][-1]"
   ]
  },
  {
   "cell_type": "code",
   "execution_count": 8,
   "metadata": {},
   "outputs": [],
   "source": [
    "pred_next_diff = predicted_open[0]"
   ]
  },
  {
   "cell_type": "code",
   "execution_count": 9,
   "metadata": {},
   "outputs": [],
   "source": [
    "next_open = last_close_val + pred_next_diff"
   ]
  },
  {
   "cell_type": "code",
   "execution_count": 10,
   "metadata": {},
   "outputs": [
    {
     "name": "stdout",
     "output_type": "stream",
     "text": [
      "Last Close: 2326.53\n",
      "Predicted Next Open: 2326.68\n"
     ]
    }
   ],
   "source": [
    "import numpy as np\n",
    "print('Last Close:', last_close_val)\n",
    "print('Predicted Next Open:', np.round(next_open, 2))"
   ]
  },
  {
   "cell_type": "code",
   "execution_count": 11,
   "metadata": {},
   "outputs": [
    {
     "name": "stderr",
     "output_type": "stream",
     "text": [
      "/home/amar/Documents/Projects/MarketPredictor/model_gens/utils/preprocessor.py:134: FutureWarning: A value is trying to be set on a copy of a DataFrame or Series through chained assignment using an inplace method.\n",
      "The behavior will change in pandas 3.0. This inplace method will never work because the intermediate object on which we are setting values always behaves as a copy.\n",
      "\n",
      "For example, when doing 'df[col].method(value, inplace=True)', try using 'df.method({col: value}, inplace=True)' or df[col] = df[col].method(value) instead, to perform the operation inplace on the original object.\n",
      "\n",
      "\n",
      "  self._data[Columns.Open_Close_Diff.name].fillna(0, inplace=True)\n"
     ]
    }
   ],
   "source": [
    "market_predictor_low = GRUModel(\n",
    "    base_data_path=os.path.join(BASE_DIR, 'last_60_steps.csv'),\n",
    "    new_data_path=os.path.join(BASE_DIR, 'Datas/NEW_XAUUSD/new/^XAUUSD_7_testt.csv'),\n",
    ")"
   ]
  },
  {
   "cell_type": "code",
   "execution_count": 12,
   "metadata": {},
   "outputs": [
    {
     "name": "stderr",
     "output_type": "stream",
     "text": [
      "WARNING:absl:Compiled the loaded model, but the compiled metrics have yet to be built. `model.compile_metrics` will be empty until you train or evaluate the model.\n"
     ]
    }
   ],
   "source": [
    "market_predictor_low.load_model(column=Columns.Low)"
   ]
  },
  {
   "cell_type": "code",
   "execution_count": 13,
   "metadata": {},
   "outputs": [
    {
     "name": "stdout",
     "output_type": "stream",
     "text": [
      "Initial length of data: 122\n",
      "Initial length of y: 122\n",
      "Initial feature shape: (122, 23)\n",
      "Initial target shape: (122,)\n",
      "Scaled feature shape: (122, 23)\n",
      "Scaled target shape: (122, 1)\n",
      "Sequence feature shape: (62, 60, 23)\n",
      "Sequence target shape: (62, 1)\n",
      "Feature set shape: (62, 60, 23)\n",
      "Target shape: (62, 1)\n",
      "\u001b[1m2/2\u001b[0m \u001b[32m━━━━━━━━━━━━━━━━━━━━\u001b[0m\u001b[37m\u001b[0m \u001b[1m1s\u001b[0m 560ms/step\n",
      "Column name: Low\n",
      "Predictions (scaled): [[0.33892602]]\n",
      "Column index: 2\n",
      "Placeholder shape: (1, 6)\n",
      "Placeholder content: [[0.         0.         0.33892602 0.         0.         0.        ]]\n"
     ]
    }
   ],
   "source": [
    "predicted_low = market_predictor_low.prepare_latest_data_and_predict_low(next_open)"
   ]
  },
  {
   "cell_type": "code",
   "execution_count": 14,
   "metadata": {},
   "outputs": [
    {
     "data": {
      "text/plain": [
       "array([2333.48])"
      ]
     },
     "execution_count": 14,
     "metadata": {},
     "output_type": "execute_result"
    }
   ],
   "source": [
    "predicted_low"
   ]
  },
  {
   "cell_type": "code",
   "execution_count": 15,
   "metadata": {},
   "outputs": [
    {
     "data": {
      "text/html": [
       "<div>\n",
       "<style scoped>\n",
       "    .dataframe tbody tr th:only-of-type {\n",
       "        vertical-align: middle;\n",
       "    }\n",
       "\n",
       "    .dataframe tbody tr th {\n",
       "        vertical-align: top;\n",
       "    }\n",
       "\n",
       "    .dataframe thead th {\n",
       "        text-align: right;\n",
       "    }\n",
       "</style>\n",
       "<table border=\"1\" class=\"dataframe\">\n",
       "  <thead>\n",
       "    <tr style=\"text-align: right;\">\n",
       "      <th></th>\n",
       "      <th>Open</th>\n",
       "      <th>High</th>\n",
       "      <th>Low</th>\n",
       "      <th>Close</th>\n",
       "      <th>Volume</th>\n",
       "      <th>Open_Close_Diff</th>\n",
       "    </tr>\n",
       "  </thead>\n",
       "  <tbody>\n",
       "    <tr>\n",
       "      <th>2024-05-31 05:50:00</th>\n",
       "      <td>2344.25</td>\n",
       "      <td>2344.30</td>\n",
       "      <td>2343.99</td>\n",
       "      <td>2343.99</td>\n",
       "      <td>-0.35</td>\n",
       "      <td>0.02</td>\n",
       "    </tr>\n",
       "    <tr>\n",
       "      <th>2024-05-31 05:55:00</th>\n",
       "      <td>2343.97</td>\n",
       "      <td>2343.97</td>\n",
       "      <td>2343.55</td>\n",
       "      <td>2343.55</td>\n",
       "      <td>0.02</td>\n",
       "      <td>0.01</td>\n",
       "    </tr>\n",
       "    <tr>\n",
       "      <th>2024-05-31 06:00:00</th>\n",
       "      <td>2343.54</td>\n",
       "      <td>2343.88</td>\n",
       "      <td>2343.54</td>\n",
       "      <td>2343.88</td>\n",
       "      <td>0.01</td>\n",
       "      <td>-0.04</td>\n",
       "    </tr>\n",
       "    <tr>\n",
       "      <th>2024-05-31 06:05:00</th>\n",
       "      <td>2343.92</td>\n",
       "      <td>2344.18</td>\n",
       "      <td>2343.92</td>\n",
       "      <td>2344.09</td>\n",
       "      <td>-0.04</td>\n",
       "      <td>-0.02</td>\n",
       "    </tr>\n",
       "    <tr>\n",
       "      <th>2024-05-31 06:10:00</th>\n",
       "      <td>2344.11</td>\n",
       "      <td>2344.19</td>\n",
       "      <td>2343.92</td>\n",
       "      <td>2343.95</td>\n",
       "      <td>-0.02</td>\n",
       "      <td>0.00</td>\n",
       "    </tr>\n",
       "    <tr>\n",
       "      <th>...</th>\n",
       "      <td>...</td>\n",
       "      <td>...</td>\n",
       "      <td>...</td>\n",
       "      <td>...</td>\n",
       "      <td>...</td>\n",
       "      <td>...</td>\n",
       "    </tr>\n",
       "    <tr>\n",
       "      <th>2024-05-31 15:35:00</th>\n",
       "      <td>2329.24</td>\n",
       "      <td>2329.66</td>\n",
       "      <td>2329.24</td>\n",
       "      <td>2329.60</td>\n",
       "      <td>-0.02</td>\n",
       "      <td>0.02</td>\n",
       "    </tr>\n",
       "    <tr>\n",
       "      <th>2024-05-31 15:40:00</th>\n",
       "      <td>2329.58</td>\n",
       "      <td>2329.59</td>\n",
       "      <td>2328.97</td>\n",
       "      <td>2328.97</td>\n",
       "      <td>0.02</td>\n",
       "      <td>0.10</td>\n",
       "    </tr>\n",
       "    <tr>\n",
       "      <th>2024-05-31 15:45:00</th>\n",
       "      <td>2328.87</td>\n",
       "      <td>2328.87</td>\n",
       "      <td>2327.82</td>\n",
       "      <td>2327.82</td>\n",
       "      <td>0.10</td>\n",
       "      <td>0.00</td>\n",
       "    </tr>\n",
       "    <tr>\n",
       "      <th>2024-06-02 21:50:00</th>\n",
       "      <td>2327.09</td>\n",
       "      <td>2327.09</td>\n",
       "      <td>2326.53</td>\n",
       "      <td>2326.53</td>\n",
       "      <td>21.00</td>\n",
       "      <td>0.00</td>\n",
       "    </tr>\n",
       "    <tr>\n",
       "      <th>2024-06-02 21:55:00</th>\n",
       "      <td>2326.68</td>\n",
       "      <td>NaN</td>\n",
       "      <td>NaN</td>\n",
       "      <td>NaN</td>\n",
       "      <td>NaN</td>\n",
       "      <td>NaN</td>\n",
       "    </tr>\n",
       "  </tbody>\n",
       "</table>\n",
       "<p>122 rows × 6 columns</p>\n",
       "</div>"
      ],
      "text/plain": [
       "                        Open     High      Low    Close  Volume  \\\n",
       "2024-05-31 05:50:00  2344.25  2344.30  2343.99  2343.99   -0.35   \n",
       "2024-05-31 05:55:00  2343.97  2343.97  2343.55  2343.55    0.02   \n",
       "2024-05-31 06:00:00  2343.54  2343.88  2343.54  2343.88    0.01   \n",
       "2024-05-31 06:05:00  2343.92  2344.18  2343.92  2344.09   -0.04   \n",
       "2024-05-31 06:10:00  2344.11  2344.19  2343.92  2343.95   -0.02   \n",
       "...                      ...      ...      ...      ...     ...   \n",
       "2024-05-31 15:35:00  2329.24  2329.66  2329.24  2329.60   -0.02   \n",
       "2024-05-31 15:40:00  2329.58  2329.59  2328.97  2328.97    0.02   \n",
       "2024-05-31 15:45:00  2328.87  2328.87  2327.82  2327.82    0.10   \n",
       "2024-06-02 21:50:00  2327.09  2327.09  2326.53  2326.53   21.00   \n",
       "2024-06-02 21:55:00  2326.68      NaN      NaN      NaN     NaN   \n",
       "\n",
       "                     Open_Close_Diff  \n",
       "2024-05-31 05:50:00             0.02  \n",
       "2024-05-31 05:55:00             0.01  \n",
       "2024-05-31 06:00:00            -0.04  \n",
       "2024-05-31 06:05:00            -0.02  \n",
       "2024-05-31 06:10:00             0.00  \n",
       "...                              ...  \n",
       "2024-05-31 15:35:00             0.02  \n",
       "2024-05-31 15:40:00             0.10  \n",
       "2024-05-31 15:45:00             0.00  \n",
       "2024-06-02 21:50:00             0.00  \n",
       "2024-06-02 21:55:00              NaN  \n",
       "\n",
       "[122 rows x 6 columns]"
      ]
     },
     "execution_count": 15,
     "metadata": {},
     "output_type": "execute_result"
    }
   ],
   "source": [
    "market_predictor_low.preprocessor._data"
   ]
  }
 ],
 "metadata": {
  "kernelspec": {
   "display_name": ".venv",
   "language": "python",
   "name": "python3"
  },
  "language_info": {
   "codemirror_mode": {
    "name": "ipython",
    "version": 3
   },
   "file_extension": ".py",
   "mimetype": "text/x-python",
   "name": "python",
   "nbconvert_exporter": "python",
   "pygments_lexer": "ipython3",
   "version": "3.12.3"
  }
 },
 "nbformat": 4,
 "nbformat_minor": 2
}
