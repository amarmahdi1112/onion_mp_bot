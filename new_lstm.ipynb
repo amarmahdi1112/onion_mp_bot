{
 "cells": [
  {
   "cell_type": "code",
   "execution_count": 37,
   "metadata": {},
   "outputs": [],
   "source": [
    "from model_gens.lstm_model_gen import LSTMModel\n",
    "from model_gens.utils.static.columns import Columns\n",
    "from settings import BASE_DIR\n",
    "import os\n",
    "from model_gens.utils.preprocessor import Preprocessor\n",
    "from model_gens.utils.static.processing_type import ProcessingType\n",
    "from model_gens.utils.static.columns import Columns"
   ]
  },
  {
   "cell_type": "code",
   "execution_count": 38,
   "metadata": {},
   "outputs": [],
   "source": [
    "data_path_high = os.path.join(BASE_DIR, 'Datas/BTCUSDT/preprocessed_data/high/test/High_last_steps.csv')\n",
    "data_path_low = os.path.join(BASE_DIR, 'Datas/BTCUSDT/preprocessed_data/low/test/Low_last_steps.csv')\n",
    "data_path_close = os.path.join(BASE_DIR, 'Datas/BTCUSDT/preprocessed_data/close/test/Close_last_steps.csv')\n",
    "data_path_volume = os.path.join(BASE_DIR, 'Datas/BTCUSDT/preprocessed_data/volume/test/Volume_last_steps.csv')"
   ]
  },
  {
   "cell_type": "code",
   "execution_count": 39,
   "metadata": {},
   "outputs": [
    {
     "name": "stderr",
     "output_type": "stream",
     "text": [
      "ERROR:root:Validation error: Target column not specified.\n"
     ]
    },
    {
     "name": "stdout",
     "output_type": "stream",
     "text": [
      "Processing type: ProcessingType.PREDICTION\n",
      "hello\n"
     ]
    }
   ],
   "source": [
    "market_predictor_high = LSTMModel(\n",
    "    base_data_path=data_path_high,\n",
    "    load_csv=True,\n",
    "    processing_type=ProcessingType.PREDICTION,\n",
    ")"
   ]
  },
  {
   "cell_type": "code",
   "execution_count": 40,
   "metadata": {},
   "outputs": [
    {
     "name": "stderr",
     "output_type": "stream",
     "text": [
      "WARNING:absl:Compiled the loaded model, but the compiled metrics have yet to be built. `model.compile_metrics` will be empty until you train or evaluate the model.\n"
     ]
    }
   ],
   "source": [
    "market_predictor_high.load_model(column=Columns.High)"
   ]
  },
  {
   "cell_type": "code",
   "execution_count": 41,
   "metadata": {},
   "outputs": [],
   "source": [
    "market_predictor_high.preprocessor.load_scaler(scaler_filename=os.path.join(BASE_DIR, 'models/btcusdt/scalers/lstm/high/'))"
   ]
  },
  {
   "cell_type": "code",
   "execution_count": 42,
   "metadata": {},
   "outputs": [
    {
     "name": "stdout",
     "output_type": "stream",
     "text": [
      "hello\n",
      "Reading data from /mnt/c/Users/amarm/Documents/Projects/onion_mp_bot/Datas/BTCUSDT/preprocessed_data/high/test/High_last_steps.csv...\n"
     ]
    },
    {
     "name": "stderr",
     "output_type": "stream",
     "text": [
      "Calculating technical indicators:   0%|          | 0/16 [00:00<?, ?it/s]"
     ]
    },
    {
     "name": "stderr",
     "output_type": "stream",
     "text": [
      "Calculating technical indicators: 100%|██████████| 16/16 [00:00<00:00, 2142.00it/s]\n"
     ]
    },
    {
     "name": "stdout",
     "output_type": "stream",
     "text": [
      "Technical indicators added for High.\n",
      "X columns: Index(['Open', 'High', 'Low', 'Close', 'Volume', 'expected_next_high',\n",
      "       'SMA_20_High', 'SMA_50_High', 'EMA_20_High', 'EMA_50_High', 'RSI_High',\n",
      "       'MACD_High', 'MACD_signal_High', 'MACD_diff_High', 'BB_upper_High',\n",
      "       'BB_middle_High', 'BB_lower_High'],\n",
      "      dtype='object'), y shape: (61,)\n"
     ]
    },
    {
     "name": "stderr",
     "output_type": "stream",
     "text": [
      "Creating sequences: 100%|██████████| 1/1 [00:00<00:00, 7281.78it/s]\n"
     ]
    },
    {
     "name": "stdout",
     "output_type": "stream",
     "text": [
      "Successfully created sequences. X shape: (1, 60, 17), y shape: (1,)\n",
      "Feature set shape: (1, 60, 17)\n",
      "Target shape: (1,)\n",
      "WARNING:tensorflow:6 out of the last 6 calls to <function TensorFlowTrainer.make_predict_function.<locals>.one_step_on_data_distributed at 0x7fcd1bf3bf60> triggered tf.function retracing. Tracing is expensive and the excessive number of tracings could be due to (1) creating @tf.function repeatedly in a loop, (2) passing tensors with different shapes, (3) passing Python objects instead of tensors. For (1), please define your @tf.function outside of the loop. For (2), @tf.function has reduce_retracing=True option that can avoid unnecessary retracing. For (3), please refer to https://www.tensorflow.org/guide/function#controlling_retracing and https://www.tensorflow.org/api_docs/python/tf/function for  more details.\n"
     ]
    },
    {
     "name": "stderr",
     "output_type": "stream",
     "text": [
      "WARNING:tensorflow:6 out of the last 6 calls to <function TensorFlowTrainer.make_predict_function.<locals>.one_step_on_data_distributed at 0x7fcd1bf3bf60> triggered tf.function retracing. Tracing is expensive and the excessive number of tracings could be due to (1) creating @tf.function repeatedly in a loop, (2) passing tensors with different shapes, (3) passing Python objects instead of tensors. For (1), please define your @tf.function outside of the loop. For (2), @tf.function has reduce_retracing=True option that can avoid unnecessary retracing. For (3), please refer to https://www.tensorflow.org/guide/function#controlling_retracing and https://www.tensorflow.org/api_docs/python/tf/function for  more details.\n"
     ]
    },
    {
     "name": "stdout",
     "output_type": "stream",
     "text": [
      "\u001b[1m1/1\u001b[0m \u001b[32m━━━━━━━━━━━━━━━━━━━━\u001b[0m\u001b[37m\u001b[0m \u001b[1m2s\u001b[0m 2s/step\n",
      "Column name: Columns.High\n",
      "Predictions (scaled): [[0.57430863]]\n"
     ]
    }
   ],
   "source": [
    "predicted_high = market_predictor_high.prepare_latest_data_and_predict_high()"
   ]
  },
  {
   "cell_type": "code",
   "execution_count": 43,
   "metadata": {},
   "outputs": [
    {
     "data": {
      "text/plain": [
       "array([0.3], dtype=float32)"
      ]
     },
     "execution_count": 43,
     "metadata": {},
     "output_type": "execute_result"
    }
   ],
   "source": [
    "predicted_high"
   ]
  },
  {
   "cell_type": "code",
   "execution_count": 44,
   "metadata": {},
   "outputs": [
    {
     "name": "stderr",
     "output_type": "stream",
     "text": [
      "/tmp/ipykernel_130436/3421671160.py:1: FutureWarning: Series.__getitem__ treating keys as positions is deprecated. In a future version, integer keys will always be treated as labels (consistent with DataFrame behavior). To access a value by position, use `ser.iloc[pos]`\n",
      "  nh = market_predictor_high.preprocessor._data['expected_next_high'][-1]\n"
     ]
    }
   ],
   "source": [
    "nh = market_predictor_high.preprocessor._data['expected_next_high'][-1]"
   ]
  },
  {
   "cell_type": "code",
   "execution_count": 45,
   "metadata": {},
   "outputs": [],
   "source": [
    "prediction_h = nh + predicted_high[0]"
   ]
  },
  {
   "cell_type": "code",
   "execution_count": 46,
   "metadata": {},
   "outputs": [
    {
     "name": "stdout",
     "output_type": "stream",
     "text": [
      "Next High: 63243.850000000006\n",
      "Predicted Next High: 63244.15000001193\n"
     ]
    }
   ],
   "source": [
    "print('Next High:', nh)\n",
    "print('Predicted Next High:', prediction_h)"
   ]
  },
  {
   "cell_type": "code",
   "execution_count": 47,
   "metadata": {},
   "outputs": [
    {
     "name": "stderr",
     "output_type": "stream",
     "text": [
      "ERROR:root:Validation error: Target column not specified.\n"
     ]
    },
    {
     "name": "stdout",
     "output_type": "stream",
     "text": [
      "Processing type: ProcessingType.PREDICTION\n",
      "hello\n"
     ]
    }
   ],
   "source": [
    "market_predictor_low = LSTMModel(\n",
    "    base_data_path=data_path_low,\n",
    "    load_csv=True,\n",
    "    processing_type=ProcessingType.PREDICTION,\n",
    ")"
   ]
  },
  {
   "cell_type": "code",
   "execution_count": 48,
   "metadata": {},
   "outputs": [
    {
     "name": "stderr",
     "output_type": "stream",
     "text": [
      "WARNING:absl:Compiled the loaded model, but the compiled metrics have yet to be built. `model.compile_metrics` will be empty until you train or evaluate the model.\n"
     ]
    }
   ],
   "source": [
    "market_predictor_low.load_model(column=Columns.Low)"
   ]
  },
  {
   "cell_type": "code",
   "execution_count": 49,
   "metadata": {},
   "outputs": [],
   "source": [
    "market_predictor_low.preprocessor.load_scaler(scaler_filename=os.path.join(BASE_DIR, 'models/btcusdt/scalers/lstm/low/'))"
   ]
  },
  {
   "cell_type": "code",
   "execution_count": 50,
   "metadata": {},
   "outputs": [
    {
     "name": "stdout",
     "output_type": "stream",
     "text": [
      "hello\n",
      "Reading data from /mnt/c/Users/amarm/Documents/Projects/onion_mp_bot/Datas/BTCUSDT/preprocessed_data/low/test/Low_last_steps.csv...\n"
     ]
    },
    {
     "name": "stderr",
     "output_type": "stream",
     "text": [
      "Calculating technical indicators: 100%|██████████| 16/16 [00:00<00:00, 3512.82it/s]"
     ]
    },
    {
     "name": "stderr",
     "output_type": "stream",
     "text": [
      "\n"
     ]
    },
    {
     "name": "stdout",
     "output_type": "stream",
     "text": [
      "Technical indicators added for Low.\n",
      "X columns: Index(['Open', 'High', 'Low', 'Close', 'Volume', 'expected_next_low',\n",
      "       'SMA_20_Low', 'SMA_50_Low', 'EMA_20_Low', 'EMA_50_Low', 'RSI_Low',\n",
      "       'MACD_Low', 'MACD_signal_Low', 'MACD_diff_Low', 'BB_upper_Low',\n",
      "       'BB_middle_Low', 'BB_lower_Low'],\n",
      "      dtype='object'), y shape: (61,)\n"
     ]
    },
    {
     "name": "stderr",
     "output_type": "stream",
     "text": [
      "Creating sequences: 100%|██████████| 1/1 [00:00<00:00, 8256.50it/s]\n"
     ]
    },
    {
     "name": "stdout",
     "output_type": "stream",
     "text": [
      "Successfully created sequences. X shape: (1, 60, 17), y shape: (1,)\n",
      "Feature set shape: (1, 60, 17)\n",
      "Target shape: (1,)\n",
      "\u001b[1m1/1\u001b[0m \u001b[32m━━━━━━━━━━━━━━━━━━━━\u001b[0m\u001b[37m\u001b[0m \u001b[1m0s\u001b[0m 349ms/step\n",
      "Column name: Low\n",
      "Predictions (scaled): [[0.6276845]]\n"
     ]
    }
   ],
   "source": [
    "predicted_low = market_predictor_low.prepare_latest_data_and_predict_low()"
   ]
  },
  {
   "cell_type": "code",
   "execution_count": 51,
   "metadata": {},
   "outputs": [
    {
     "data": {
      "text/plain": [
       "array([0.77], dtype=float32)"
      ]
     },
     "execution_count": 51,
     "metadata": {},
     "output_type": "execute_result"
    }
   ],
   "source": [
    "predicted_low"
   ]
  },
  {
   "cell_type": "code",
   "execution_count": 52,
   "metadata": {},
   "outputs": [
    {
     "name": "stderr",
     "output_type": "stream",
     "text": [
      "/tmp/ipykernel_130436/442743808.py:1: FutureWarning: Series.__getitem__ treating keys as positions is deprecated. In a future version, integer keys will always be treated as labels (consistent with DataFrame behavior). To access a value by position, use `ser.iloc[pos]`\n",
      "  nl = market_predictor_low.preprocessor._data['expected_next_low'][-1]\n"
     ]
    }
   ],
   "source": [
    "nl = market_predictor_low.preprocessor._data['expected_next_low'][-1]"
   ]
  },
  {
   "cell_type": "code",
   "execution_count": 53,
   "metadata": {},
   "outputs": [],
   "source": [
    "prediction_l = nl - predicted_low[0]"
   ]
  },
  {
   "cell_type": "code",
   "execution_count": 54,
   "metadata": {},
   "outputs": [
    {
     "name": "stdout",
     "output_type": "stream",
     "text": [
      "Next Low: 63243.73999999999\n",
      "Predicted Next Low: 63242.970000019064\n"
     ]
    }
   ],
   "source": [
    "print('Next Low:', nl)\n",
    "print('Predicted Next Low:', prediction_l)"
   ]
  },
  {
   "cell_type": "code",
   "execution_count": 55,
   "metadata": {},
   "outputs": [
    {
     "name": "stderr",
     "output_type": "stream",
     "text": [
      "ERROR:root:Validation error: Target column not specified.\n"
     ]
    },
    {
     "name": "stdout",
     "output_type": "stream",
     "text": [
      "Processing type: ProcessingType.PREDICTION\n",
      "hello\n"
     ]
    }
   ],
   "source": [
    "market_predictor_close = LSTMModel(\n",
    "    base_data_path=data_path_close,\n",
    "    load_csv=True,\n",
    "    processing_type=ProcessingType.PREDICTION,\n",
    ")"
   ]
  },
  {
   "cell_type": "code",
   "execution_count": 56,
   "metadata": {},
   "outputs": [
    {
     "name": "stderr",
     "output_type": "stream",
     "text": [
      "WARNING:absl:Compiled the loaded model, but the compiled metrics have yet to be built. `model.compile_metrics` will be empty until you train or evaluate the model.\n"
     ]
    }
   ],
   "source": [
    "market_predictor_close.load_model(column=Columns.Close)"
   ]
  },
  {
   "cell_type": "code",
   "execution_count": 57,
   "metadata": {},
   "outputs": [],
   "source": [
    "market_predictor_close.preprocessor.load_scaler(scaler_filename=os.path.join(BASE_DIR, 'models/btcusdt/scalers/lstm/close/'))"
   ]
  },
  {
   "cell_type": "code",
   "execution_count": 58,
   "metadata": {},
   "outputs": [
    {
     "name": "stdout",
     "output_type": "stream",
     "text": [
      "hello\n",
      "Reading data from /mnt/c/Users/amarm/Documents/Projects/onion_mp_bot/Datas/BTCUSDT/preprocessed_data/close/test/Close_last_steps.csv...\n"
     ]
    },
    {
     "name": "stderr",
     "output_type": "stream",
     "text": [
      "Calculating technical indicators:   0%|          | 0/16 [00:00<?, ?it/s]"
     ]
    },
    {
     "name": "stderr",
     "output_type": "stream",
     "text": [
      "Calculating technical indicators: 100%|██████████| 16/16 [00:00<00:00, 2068.83it/s]\n"
     ]
    },
    {
     "name": "stdout",
     "output_type": "stream",
     "text": [
      "Technical indicators added for Close.\n",
      "X columns: Index(['Open', 'High', 'Low', 'Close', 'Volume', 'expected_next_close',\n",
      "       'SMA_20_Close', 'SMA_50_Close', 'EMA_20_Close', 'EMA_50_Close',\n",
      "       'RSI_Close', 'MACD_Close', 'MACD_signal_Close', 'MACD_diff_Close',\n",
      "       'BB_upper_Close', 'BB_middle_Close', 'BB_lower_Close', 'ATR_Close',\n",
      "       'Stoch_Close', 'Stoch_signal_Close', 'Donchian_upper_Close',\n",
      "       'Donchian_lower_Close', 'Rolling_mean_20_Close', 'Rolling_std_20_Close',\n",
      "       'Close_diff_Close', 'High_Low_Range_Close', 'Open_Close_Range_Close',\n",
      "       'Volatility_Close'],\n",
      "      dtype='object'), y shape: (61,)\n"
     ]
    },
    {
     "name": "stderr",
     "output_type": "stream",
     "text": [
      "Creating sequences: 100%|██████████| 1/1 [00:00<00:00, 12595.51it/s]\n"
     ]
    },
    {
     "name": "stdout",
     "output_type": "stream",
     "text": [
      "Successfully created sequences. X shape: (1, 60, 28), y shape: (1,)\n",
      "Feature set shape: (1, 60, 28)\n",
      "Target shape: (1,)\n",
      "\u001b[1m1/1\u001b[0m \u001b[32m━━━━━━━━━━━━━━━━━━━━\u001b[0m\u001b[37m\u001b[0m \u001b[1m0s\u001b[0m 407ms/step\n",
      "Column name: Columns.Close\n",
      "Predictions (scaled): [[0.6294784]]\n"
     ]
    }
   ],
   "source": [
    "predicted_close = market_predictor_close.prepare_latest_data_and_predict_close()"
   ]
  },
  {
   "cell_type": "code",
   "execution_count": 59,
   "metadata": {},
   "outputs": [
    {
     "data": {
      "text/plain": [
       "array([-0.58], dtype=float32)"
      ]
     },
     "execution_count": 59,
     "metadata": {},
     "output_type": "execute_result"
    }
   ],
   "source": [
    "predicted_close"
   ]
  },
  {
   "cell_type": "code",
   "execution_count": 60,
   "metadata": {},
   "outputs": [
    {
     "name": "stderr",
     "output_type": "stream",
     "text": [
      "/tmp/ipykernel_130436/3090332062.py:1: FutureWarning: Series.__getitem__ treating keys as positions is deprecated. In a future version, integer keys will always be treated as labels (consistent with DataFrame behavior). To access a value by position, use `ser.iloc[pos]`\n",
      "  nc = market_predictor_close.preprocessor._data['expected_next_close'][-1]\n"
     ]
    }
   ],
   "source": [
    "nc = market_predictor_close.preprocessor._data['expected_next_close'][-1]"
   ]
  },
  {
   "cell_type": "code",
   "execution_count": 61,
   "metadata": {},
   "outputs": [],
   "source": [
    "prediction_c = nc - predicted_close[0]"
   ]
  },
  {
   "cell_type": "code",
   "execution_count": 62,
   "metadata": {},
   "outputs": [
    {
     "name": "stdout",
     "output_type": "stream",
     "text": [
      "Next Close: 63243.83\n",
      "Predicted Next Close: 63244.40999998331\n"
     ]
    }
   ],
   "source": [
    "print('Next Close:', nc)\n",
    "print('Predicted Next Close:', prediction_c)"
   ]
  },
  {
   "cell_type": "code",
   "execution_count": 63,
   "metadata": {},
   "outputs": [],
   "source": [
    "open_price = nc - (nh - nc)"
   ]
  },
  {
   "cell_type": "code",
   "execution_count": 64,
   "metadata": {},
   "outputs": [
    {
     "name": "stdout",
     "output_type": "stream",
     "text": [
      "Open Price: 63243.81\n"
     ]
    }
   ],
   "source": [
    "print('Open Price:', open_price)"
   ]
  },
  {
   "cell_type": "code",
   "execution_count": 65,
   "metadata": {},
   "outputs": [
    {
     "name": "stderr",
     "output_type": "stream",
     "text": [
      "ERROR:root:Validation error: Target column not specified.\n"
     ]
    },
    {
     "name": "stdout",
     "output_type": "stream",
     "text": [
      "Processing type: ProcessingType.PREDICTION\n",
      "hello\n"
     ]
    }
   ],
   "source": [
    "market_predictor_volume = LSTMModel(\n",
    "    base_data_path=data_path_volume,\n",
    "    load_csv=True,\n",
    "    processing_type=ProcessingType.PREDICTION,\n",
    ")"
   ]
  },
  {
   "cell_type": "code",
   "execution_count": 66,
   "metadata": {},
   "outputs": [
    {
     "name": "stderr",
     "output_type": "stream",
     "text": [
      "WARNING:absl:Compiled the loaded model, but the compiled metrics have yet to be built. `model.compile_metrics` will be empty until you train or evaluate the model.\n"
     ]
    }
   ],
   "source": [
    "market_predictor_volume.load_model(column=Columns.Volume)"
   ]
  },
  {
   "cell_type": "code",
   "execution_count": 67,
   "metadata": {},
   "outputs": [],
   "source": [
    "market_predictor_volume.preprocessor.load_scaler(scaler_filename=os.path.join(BASE_DIR, 'models/btcusdt/scalers/lstm/volume/'))"
   ]
  },
  {
   "cell_type": "code",
   "execution_count": 68,
   "metadata": {},
   "outputs": [
    {
     "name": "stdout",
     "output_type": "stream",
     "text": [
      "hello\n",
      "Reading data from /mnt/c/Users/amarm/Documents/Projects/onion_mp_bot/Datas/BTCUSDT/preprocessed_data/volume/test/Volume_last_steps.csv...\n"
     ]
    },
    {
     "name": "stderr",
     "output_type": "stream",
     "text": [
      "Calculating technical indicators: 100%|██████████| 16/16 [00:00<00:00, 3749.10it/s]\n"
     ]
    },
    {
     "name": "stdout",
     "output_type": "stream",
     "text": [
      "Technical indicators added for Volume.\n",
      "X columns: Index(['Open', 'High', 'Low', 'Close', 'Volume', 'expected_next_volume',\n",
      "       'SMA_20_Volume', 'SMA_50_Volume', 'EMA_20_Volume', 'EMA_50_Volume',\n",
      "       'RSI_Volume', 'MACD_Volume', 'MACD_signal_Volume', 'MACD_diff_Volume',\n",
      "       'BB_upper_Volume', 'BB_middle_Volume', 'BB_lower_Volume'],\n",
      "      dtype='object'), y shape: (61,)\n"
     ]
    },
    {
     "name": "stderr",
     "output_type": "stream",
     "text": [
      "Creating sequences: 100%|██████████| 1/1 [00:00<00:00, 10922.67it/s]\n"
     ]
    },
    {
     "name": "stdout",
     "output_type": "stream",
     "text": [
      "Successfully created sequences. X shape: (1, 60, 17), y shape: (1,)\n",
      "Feature set shape: (1, 60, 17)\n",
      "Target shape: (1,)\n"
     ]
    },
    {
     "name": "stdout",
     "output_type": "stream",
     "text": [
      "\u001b[1m1/1\u001b[0m \u001b[32m━━━━━━━━━━━━━━━━━━━━\u001b[0m\u001b[37m\u001b[0m \u001b[1m0s\u001b[0m 446ms/step\n",
      "Column name: Columns.Volume\n",
      "Predictions (scaled): [[0.43222678]]\n"
     ]
    }
   ],
   "source": [
    "predicted_volume = market_predictor_volume.prepare_latest_data_and_predict_volume()"
   ]
  },
  {
   "cell_type": "code",
   "execution_count": 69,
   "metadata": {},
   "outputs": [
    {
     "data": {
      "text/plain": [
       "array([-1.39], dtype=float32)"
      ]
     },
     "execution_count": 69,
     "metadata": {},
     "output_type": "execute_result"
    }
   ],
   "source": [
    "predicted_volume"
   ]
  },
  {
   "cell_type": "code",
   "execution_count": 70,
   "metadata": {},
   "outputs": [
    {
     "name": "stderr",
     "output_type": "stream",
     "text": [
      "/tmp/ipykernel_130436/640311807.py:1: FutureWarning: Series.__getitem__ treating keys as positions is deprecated. In a future version, integer keys will always be treated as labels (consistent with DataFrame behavior). To access a value by position, use `ser.iloc[pos]`\n",
      "  nv = market_predictor_volume.preprocessor._data['expected_next_volume'][-1]\n"
     ]
    }
   ],
   "source": [
    "nv = market_predictor_volume.preprocessor._data['expected_next_volume'][-1]"
   ]
  },
  {
   "cell_type": "code",
   "execution_count": 75,
   "metadata": {},
   "outputs": [],
   "source": [
    "prediction_v = nv - predicted_volume[0]"
   ]
  },
  {
   "cell_type": "code",
   "execution_count": 76,
   "metadata": {},
   "outputs": [
    {
     "name": "stdout",
     "output_type": "stream",
     "text": [
      "Next Volume: 54.99999999999992\n",
      "Predicted Next Volume: 53.61000001430504\n"
     ]
    }
   ],
   "source": [
    "print('Next Volume:', nv)\n",
    "print('Predicted Next Volume:', prediction_v)"
   ]
  }
 ],
 "metadata": {
  "kernelspec": {
   "display_name": ".venv",
   "language": "python",
   "name": "python3"
  },
  "language_info": {
   "codemirror_mode": {
    "name": "ipython",
    "version": 3
   },
   "file_extension": ".py",
   "mimetype": "text/x-python",
   "name": "python",
   "nbconvert_exporter": "python",
   "pygments_lexer": "ipython3",
   "version": "3.11.9"
  }
 },
 "nbformat": 4,
 "nbformat_minor": 2
}
